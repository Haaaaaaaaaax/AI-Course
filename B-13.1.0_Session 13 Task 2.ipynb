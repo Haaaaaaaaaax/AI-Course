{
 "cells": [
  {
   "cell_type": "code",
   "execution_count": 3,
   "id": "32a10aa8-8163-47e1-99a2-a7a8d98a2523",
   "metadata": {},
   "outputs": [],
   "source": [
    "import csv\n",
    "import requests\n",
    "from bs4 import BeautifulSoup\n",
    "\n",
    "csv_file = open('Electronic and communication engineer jobs.csv','w', encoding = 'utf-8')\n",
    "writer = csv.writer(csv_file)\n",
    "writer.writerow([\"Job Title\",\"Company\",\"Location\",\"Job Date\", \"Job Type\",\"Job Information\"])\n",
    "for i in range(14):\n",
    "    url = f\"https://wuzzuf.net/search/jobs/?a=hpb%7Cspbg&q=electronic%20and%20communication%20engineering&start={i}\"\n",
    "    website = requests.get(url).text\n",
    "    website = BeautifulSoup(website, \"lxml\")\n",
    "    \n",
    "    jobs = website.find_all(\"div\", class_ = \"css-pkv5jc\")\n",
    "\n",
    "    for job in jobs:\n",
    "        job_title = job.find(\"h2\", class_ = \"css-m604qf\").text\n",
    "        job_company = job.find(\"a\", class_ = \"css-17s97q8\").text\n",
    "        job_location = job.find(\"span\", class_ = \"css-5wys0k\").text\n",
    "        try:\n",
    "            job_date = job.find(\"div\", class_ = \"css-4c4ojb\").text\n",
    "        except:\n",
    "            job_date = job.find(\"div\", class_ = \"css-do6t5g\").text\n",
    "        job_type = job.find(\"div\", class_ = \"css-1lh32fc\").text\n",
    "        job_info = job.find(\"div\", class_ = \"css-y4udm8\").text\n",
    "\n",
    "        writer.writerow([job_title, job_company, job_location,job_date, job_type, job_info])\n",
    "csv_file.close()"
   ]
  },
  {
   "cell_type": "code",
   "execution_count": null,
   "id": "1a570142-be41-48a4-974b-902258bafd7c",
   "metadata": {},
   "outputs": [],
   "source": []
  }
 ],
 "metadata": {
  "kernelspec": {
   "display_name": "Python 3 (ipykernel)",
   "language": "python",
   "name": "python3"
  },
  "language_info": {
   "codemirror_mode": {
    "name": "ipython",
    "version": 3
   },
   "file_extension": ".py",
   "mimetype": "text/x-python",
   "name": "python",
   "nbconvert_exporter": "python",
   "pygments_lexer": "ipython3",
   "version": "3.11.5"
  }
 },
 "nbformat": 4,
 "nbformat_minor": 5
}
